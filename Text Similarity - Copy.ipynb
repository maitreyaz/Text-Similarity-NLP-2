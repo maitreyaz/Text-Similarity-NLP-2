{
 "cells": [
  {
   "cell_type": "markdown",
   "id": "02807950",
   "metadata": {},
   "source": [
    "# Text Similarity\n",
    "This Notebook focuses on calculating the similarity between 2 texts. We will be using a CSV file comprising of 2 independent features, viz. `text1` & `text2`.\n",
    "Since there's no dependent variable, we have 2 options : Either treat the problem statement as an unsupervised problem and make clusters, or perform some feature engineering and treat the probem as a regression problem in supervised learning.\n",
    "We would go with the supervised learning approach."
   ]
  },
  {
   "cell_type": "code",
   "execution_count": 1,
   "id": "b5b943bc",
   "metadata": {},
   "outputs": [],
   "source": [
    "# Importing necessary libraries\n",
    "import numpy as np\n",
    "import pandas as pd\n",
    "\n",
    "import spacy\n",
    "nlp = spacy.load(\"en_core_web_lg\") # We would require `en_core_web_lg`, the trained pipeline for the English language"
   ]
  },
  {
   "cell_type": "code",
   "execution_count": 2,
   "id": "9c8a3f9d",
   "metadata": {},
   "outputs": [
    {
     "data": {
      "text/plain": [
       "(2, 6)"
      ]
     },
     "execution_count": 2,
     "metadata": {},
     "output_type": "execute_result"
    }
   ],
   "source": [
    "from sklearn.feature_extraction.text import TfidfVectorizer\n",
    "vectorizer = TfidfVectorizer(min_df=1)\n",
    "text1 = \"india is my country\"\n",
    "text2 = \"hello there\"\n",
    "text = vectorizer.fit_transform([text1, text2])\n",
    "text.shape"
   ]
  },
  {
   "cell_type": "code",
   "execution_count": 3,
   "id": "5c4da5bd",
   "metadata": {},
   "outputs": [
    {
     "name": "stdout",
     "output_type": "stream",
     "text": [
      "  (0, 0)\t0.5\n",
      "  (0, 4)\t0.5\n",
      "  (0, 3)\t0.5\n",
      "  (0, 2)\t0.5\n"
     ]
    }
   ],
   "source": [
    "print(text[0])"
   ]
  },
  {
   "cell_type": "code",
   "execution_count": 4,
   "id": "88d9eac0",
   "metadata": {},
   "outputs": [
    {
     "name": "stdout",
     "output_type": "stream",
     "text": [
      "  (0, 0)\t0.5\n",
      "  (0, 4)\t0.5\n",
      "  (0, 3)\t0.5\n",
      "  (0, 2)\t0.5\n"
     ]
    }
   ],
   "source": [
    "print(text[0][0])"
   ]
  },
  {
   "cell_type": "code",
   "execution_count": 5,
   "id": "b95fcb8c",
   "metadata": {},
   "outputs": [
    {
     "name": "stdout",
     "output_type": "stream",
     "text": [
      "  (0, 5)\t0.7071067811865476\n",
      "  (0, 1)\t0.7071067811865476\n"
     ]
    }
   ],
   "source": [
    "print(text[1][0])"
   ]
  },
  {
   "cell_type": "code",
   "execution_count": 6,
   "id": "36ee1ec4",
   "metadata": {},
   "outputs": [
    {
     "name": "stdout",
     "output_type": "stream",
     "text": [
      "Similarity score: 0.5031026124151314\n"
     ]
    }
   ],
   "source": [
    "import re\n",
    "from sklearn.feature_extraction.text import TfidfVectorizer\n",
    "from sklearn.metrics.pairwise import cosine_similarity\n",
    "\n",
    "\n",
    "def calculate_similarity(text1, text2):\n",
    "    # Preprocess the texts\n",
    "    \n",
    "    # Remove special characters and punctuation\n",
    "    text1 = re.sub(r'[^\\w\\s]', '', text1)\n",
    "    text2 = re.sub(r'[^\\w\\s]', '', text2)\n",
    "    # Convert to lowercase\n",
    "    text1 = text1.lower()\n",
    "    text2 = text2.lower()\n",
    "    \n",
    "    # Vectorize the texts using TF-IDF\n",
    "    vectorizer = TfidfVectorizer(min_df=1)\n",
    "    text_vectors = vectorizer.fit_transform([text1, text2])\n",
    "\n",
    "    # Calculate the cosine similarity\n",
    "    cosine_sim = cosine_similarity(text_vectors[0], text_vectors[1])[0][0]\n",
    "\n",
    "    # Convert cosine similarity to a similarity score in the range of 0 to 1\n",
    "#     similarity_score = (cosine_sim + 1) / 2\n",
    "    similarity_score = cosine_sim\n",
    "\n",
    "    return similarity_score\n",
    "\n",
    "# Example usage\n",
    "# text1 = \"This is t...h.e.... second text?\"\n",
    "# text2 = \"This is the second text.\"\n",
    "text1 = \"This is india\"\n",
    "text2 = \"This is pakistan\"\n",
    "similarity = calculate_similarity(text1, text2)\n",
    "print(\"Similarity score:\", similarity)\n"
   ]
  },
  {
   "cell_type": "code",
   "execution_count": 7,
   "id": "453c748d",
   "metadata": {},
   "outputs": [
    {
     "data": {
      "text/html": [
       "<div>\n",
       "<style scoped>\n",
       "    .dataframe tbody tr th:only-of-type {\n",
       "        vertical-align: middle;\n",
       "    }\n",
       "\n",
       "    .dataframe tbody tr th {\n",
       "        vertical-align: top;\n",
       "    }\n",
       "\n",
       "    .dataframe thead th {\n",
       "        text-align: right;\n",
       "    }\n",
       "</style>\n",
       "<table border=\"1\" class=\"dataframe\">\n",
       "  <thead>\n",
       "    <tr style=\"text-align: right;\">\n",
       "      <th></th>\n",
       "      <th>text1</th>\n",
       "      <th>text2</th>\n",
       "    </tr>\n",
       "  </thead>\n",
       "  <tbody>\n",
       "    <tr>\n",
       "      <th>0</th>\n",
       "      <td>broadband challenges tv viewing the number of ...</td>\n",
       "      <td>gardener wins double in glasgow britain s jaso...</td>\n",
       "    </tr>\n",
       "    <tr>\n",
       "      <th>1</th>\n",
       "      <td>rap boss arrested over drug find rap mogul mar...</td>\n",
       "      <td>amnesty chief laments war failure the lack of ...</td>\n",
       "    </tr>\n",
       "    <tr>\n",
       "      <th>2</th>\n",
       "      <td>player burn-out worries robinson england coach...</td>\n",
       "      <td>hanks greeted at wintry premiere hollywood sta...</td>\n",
       "    </tr>\n",
       "    <tr>\n",
       "      <th>3</th>\n",
       "      <td>hearts of oak 3-2 cotonsport hearts of oak set...</td>\n",
       "      <td>redford s vision of sundance despite sporting ...</td>\n",
       "    </tr>\n",
       "    <tr>\n",
       "      <th>4</th>\n",
       "      <td>sir paul rocks super bowl crowds sir paul mcca...</td>\n",
       "      <td>mauresmo opens with victory in la amelie maure...</td>\n",
       "    </tr>\n",
       "  </tbody>\n",
       "</table>\n",
       "</div>"
      ],
      "text/plain": [
       "                                               text1  \\\n",
       "0  broadband challenges tv viewing the number of ...   \n",
       "1  rap boss arrested over drug find rap mogul mar...   \n",
       "2  player burn-out worries robinson england coach...   \n",
       "3  hearts of oak 3-2 cotonsport hearts of oak set...   \n",
       "4  sir paul rocks super bowl crowds sir paul mcca...   \n",
       "\n",
       "                                               text2  \n",
       "0  gardener wins double in glasgow britain s jaso...  \n",
       "1  amnesty chief laments war failure the lack of ...  \n",
       "2  hanks greeted at wintry premiere hollywood sta...  \n",
       "3  redford s vision of sundance despite sporting ...  \n",
       "4  mauresmo opens with victory in la amelie maure...  "
      ]
     },
     "execution_count": 7,
     "metadata": {},
     "output_type": "execute_result"
    }
   ],
   "source": [
    "# Reading the CSV file into 'df'\n",
    "df = pd.read_csv(\"Precily_Text_Similarity.csv\")\n",
    "df.head()"
   ]
  },
  {
   "cell_type": "code",
   "execution_count": 8,
   "id": "377c527a",
   "metadata": {},
   "outputs": [
    {
     "data": {
      "text/plain": [
       "(3000, 2)"
      ]
     },
     "execution_count": 8,
     "metadata": {},
     "output_type": "execute_result"
    }
   ],
   "source": [
    "df.shape"
   ]
  },
  {
   "cell_type": "code",
   "execution_count": 9,
   "id": "3388b13d",
   "metadata": {},
   "outputs": [
    {
     "data": {
      "text/plain": [
       "Index(['text1', 'text2'], dtype='object')"
      ]
     },
     "execution_count": 9,
     "metadata": {},
     "output_type": "execute_result"
    }
   ],
   "source": [
    "cols = df.columns\n",
    "cols"
   ]
  },
  {
   "cell_type": "code",
   "execution_count": 10,
   "id": "971b2f18",
   "metadata": {},
   "outputs": [
    {
     "data": {
      "text/plain": [
       "str"
      ]
     },
     "execution_count": 10,
     "metadata": {},
     "output_type": "execute_result"
    }
   ],
   "source": [
    "type(cols[0])"
   ]
  },
  {
   "cell_type": "markdown",
   "id": "53a5e336",
   "metadata": {},
   "source": [
    "## Finding Similarity\n",
    "- The cells below depict how similarity is calculated for 2 texts utilizing the `en_core_web_lg` pipeline"
   ]
  },
  {
   "cell_type": "code",
   "execution_count": 11,
   "id": "5afaa5e2",
   "metadata": {},
   "outputs": [],
   "source": [
    "# s1 = nlp(df['text1'][0])\n",
    "# s2 = nlp(df['text2'][0])\n",
    "# print(s1)"
   ]
  },
  {
   "cell_type": "code",
   "execution_count": 12,
   "id": "5568923b",
   "metadata": {},
   "outputs": [],
   "source": [
    "# # Finding the similarity\n",
    "# s1.similarity(s2)"
   ]
  },
  {
   "cell_type": "code",
   "execution_count": 13,
   "id": "fc0022a6",
   "metadata": {},
   "outputs": [
    {
     "data": {
      "text/plain": [
       "[]"
      ]
     },
     "execution_count": 13,
     "metadata": {},
     "output_type": "execute_result"
    }
   ],
   "source": [
    "# Checking if we have any missing values in our dataset\n",
    "features_with_na = [feature for feature in df.columns if df[feature].isnull().sum()>0]\n",
    "features_with_na"
   ]
  },
  {
   "cell_type": "markdown",
   "id": "cc0c7960",
   "metadata": {},
   "source": [
    "## Feature Engineering\n",
    "- We would add an extra feature `similarity score` to the dataset which would contain the similarity scores"
   ]
  },
  {
   "cell_type": "code",
   "execution_count": 14,
   "id": "29df0c63",
   "metadata": {},
   "outputs": [
    {
     "data": {
      "text/plain": [
       "0     0.554358\n",
       "1     0.311934\n",
       "2     0.411193\n",
       "3     0.533577\n",
       "4     0.423601\n",
       "5     0.324470\n",
       "6     0.454944\n",
       "7     0.519522\n",
       "8     0.420931\n",
       "9     0.347751\n",
       "10    0.498338\n",
       "11    0.515272\n",
       "12    0.553448\n",
       "13    0.512737\n",
       "14    0.344467\n",
       "15    0.541494\n",
       "16    0.536287\n",
       "17    0.597753\n",
       "18    0.589176\n",
       "19    0.419888\n",
       "Name: similarity score, dtype: float64"
      ]
     },
     "execution_count": 14,
     "metadata": {},
     "output_type": "execute_result"
    }
   ],
   "source": [
    "# Finding the similarity scores for all rows and storing them in the newly formed column\n",
    "for idx in range(3000):\n",
    "    str1 = df['text1'][idx]\n",
    "#     str1 = nlp(str1)\n",
    "    str2 = df['text2'][idx]\n",
    "#     str2 = nlp(str2)\n",
    "#     df.loc[idx, 'similarity score'] = str1.similarity(str2)\n",
    "    df.loc[idx, 'similarity score'] = calculate_similarity(str1, str2)\n",
    "    \n",
    "df['similarity score'].head(20)"
   ]
  },
  {
   "cell_type": "code",
   "execution_count": 15,
   "id": "61027aa9",
   "metadata": {},
   "outputs": [],
   "source": [
    "from sklearn.linear_model import LinearRegression\n",
    "from sklearn.model_selection import train_test_split\n",
    "linear_regr_model = LinearRegression()\n",
    "xtrain, xtest, ytrain, ytest = train_test_split(df[['text1', 'text2']], df['similarity score'], test_size=0.2, random_state=42)"
   ]
  },
  {
   "cell_type": "code",
   "execution_count": 16,
   "id": "3e4f2162",
   "metadata": {},
   "outputs": [],
   "source": [
    "xtrain = vectorizer.fit_transform(xtrain['text1'] + ' ' + xtrain['text2'])"
   ]
  },
  {
   "cell_type": "code",
   "execution_count": 17,
   "id": "44fe6ab4",
   "metadata": {},
   "outputs": [],
   "source": [
    "xtest = vectorizer.transform(xtest['text1']+' '+xtest['text2'])"
   ]
  },
  {
   "cell_type": "code",
   "execution_count": 18,
   "id": "36221cb3",
   "metadata": {},
   "outputs": [],
   "source": [
    "# Importing xgboost\n",
    "import xgboost as xgb\n",
    "\n",
    "# Training and predicting our model\n",
    "xgbmodel = xgb.XGBRegressor()\n",
    "xgbmodel.fit(xtrain, ytrain)\n",
    "xgb_pred = xgbmodel.predict(xtest)"
   ]
  },
  {
   "cell_type": "code",
   "execution_count": 19,
   "id": "84b997b5",
   "metadata": {},
   "outputs": [
    {
     "data": {
      "text/plain": [
       "array([0.42797002, 0.4597487 , 0.2932161 , 0.46567684, 0.42732933,\n",
       "       0.5171724 , 0.49551073, 0.5426214 , 0.27734712, 0.5401858 ,\n",
       "       0.48108476, 0.53148794, 0.42584357, 0.55112207, 0.45668018,\n",
       "       0.48483148, 0.59645206, 0.42613575, 0.40947336, 0.5366212 ,\n",
       "       0.40929744, 0.36468294, 0.50264263, 0.584264  , 0.23147014,\n",
       "       0.39910924, 0.51947856, 0.4328256 , 0.50145996, 0.40542957,\n",
       "       0.526122  , 0.39067486, 0.35474437, 0.33899546, 0.4469741 ,\n",
       "       0.41380432, 0.48962256, 0.2988011 , 0.4496635 , 0.46789908,\n",
       "       0.27967927, 0.42543286, 0.592894  , 0.40098765, 0.5422163 ,\n",
       "       0.5242108 , 0.5082526 , 0.38154468, 0.38550952, 0.35421214,\n",
       "       0.56087697, 0.3787509 , 0.36826554, 0.44445795, 0.3724649 ,\n",
       "       0.5151    , 0.38531065, 0.543245  , 0.3745809 , 0.4660894 ,\n",
       "       0.44284543, 0.389992  , 0.26847842, 0.504365  , 0.42396447,\n",
       "       0.53790575, 0.3650322 , 0.41854495, 0.38301703, 0.52687573,\n",
       "       0.49330544, 0.57784355, 0.4575203 , 0.41330785, 0.47178224,\n",
       "       0.34301525, 0.4955662 , 0.5233338 , 0.4078176 , 0.52774084,\n",
       "       0.4593511 , 0.4002103 , 0.5078964 , 0.36914346, 0.41354537,\n",
       "       0.54650974, 0.46909028, 0.4262574 , 0.40592808, 0.42370966,\n",
       "       0.47317845, 0.40585846, 0.5080048 , 0.3137478 , 0.39054283,\n",
       "       0.27868658, 0.3824186 , 0.47029966, 0.4977749 , 0.5834577 ,\n",
       "       0.3459633 , 0.31861538, 0.35401747, 0.23204216, 0.52522594,\n",
       "       0.40170082, 0.5023709 , 0.43022186, 0.53697026, 0.34909698,\n",
       "       0.44024098, 0.46459153, 0.39604405, 0.36574984, 0.3780009 ,\n",
       "       0.4639299 , 0.49710965, 0.52159023, 0.40457967, 0.46433958,\n",
       "       0.5426545 , 0.46062323, 0.4951979 , 0.39213848, 0.26206636,\n",
       "       0.50715744, 0.390597  , 0.56035906, 0.44159436, 0.51340246,\n",
       "       0.5345508 , 0.53168905, 0.39492264, 0.32489407, 0.40746897,\n",
       "       0.39855036, 0.47249502, 0.23039298, 0.4872008 , 0.42209083,\n",
       "       0.4347088 , 0.5942246 , 0.5277038 , 0.4016645 , 0.49364886,\n",
       "       0.6500747 , 0.5486708 , 0.38490114, 0.43055898, 0.35818645,\n",
       "       0.3327767 , 0.51817054, 0.3897777 , 0.3126101 , 0.48647392,\n",
       "       0.45379403, 0.43500182, 0.516832  , 0.3033016 , 0.4129122 ,\n",
       "       0.5300922 , 0.28945848, 0.41409135, 0.35695517, 0.38247624,\n",
       "       0.48769   , 0.48487118, 0.5698372 , 0.35469645, 0.44238645,\n",
       "       0.48948392, 0.4719175 , 0.5853224 , 0.29347944, 0.47604555,\n",
       "       0.36884183, 0.510765  , 0.29768422, 0.4389005 , 0.6027851 ,\n",
       "       0.54527265, 0.47889906, 0.41338962, 0.44731346, 0.48640484,\n",
       "       0.5362911 , 0.46879116, 0.5140179 , 0.5526156 , 0.40139136,\n",
       "       0.46759585, 0.44629785, 0.4205667 , 0.35679415, 0.52478296,\n",
       "       0.31809342, 0.3949085 , 0.40796858, 0.31606475, 0.41070873,\n",
       "       0.5502902 , 0.5342385 , 0.3706303 , 0.4378079 , 0.47080776,\n",
       "       0.5651627 , 0.21075854, 0.49415287, 0.5166713 , 0.51180065,\n",
       "       0.4515337 , 0.5254828 , 0.3132473 , 0.5941447 , 0.5133024 ,\n",
       "       0.50166154, 0.43470967, 0.40824163, 0.44396934, 0.46802416,\n",
       "       0.48049703, 0.3492561 , 0.39297605, 0.39430934, 0.25772753,\n",
       "       0.3095134 , 0.38583577, 0.55577993, 0.4414865 , 0.599803  ,\n",
       "       0.50942147, 0.53410393, 0.46769825, 0.43704802, 0.45133555,\n",
       "       0.37967458, 0.42019117, 0.461964  , 0.4775152 , 0.40579122,\n",
       "       0.40775967, 0.51955825, 0.50725496, 0.6120926 , 0.40500367,\n",
       "       0.40806457, 0.46928293, 0.51367474, 0.42803964, 0.4059603 ,\n",
       "       0.51667416, 0.434847  , 0.5376146 , 0.51058954, 0.49822038,\n",
       "       0.5178403 , 0.35868597, 0.39782068, 0.30324307, 0.5062418 ,\n",
       "       0.45652232, 0.3917997 , 0.481774  , 0.48974484, 0.5855068 ,\n",
       "       0.42430297, 0.3924319 , 0.53789467, 0.42209333, 0.33624962,\n",
       "       0.5776172 , 0.5988598 , 0.4640461 , 0.35948935, 0.45790556,\n",
       "       0.38825557, 0.47945264, 0.5733184 , 0.5407437 , 0.5769282 ,\n",
       "       0.52425426, 0.2141329 , 0.3404483 , 0.5987774 , 0.4802284 ,\n",
       "       0.4444951 , 0.40411422, 0.5264626 , 0.5314548 , 0.56453735,\n",
       "       0.46381178, 0.382643  , 0.49780846, 0.48836324, 0.6295787 ,\n",
       "       0.48246875, 0.47928733, 0.5916848 , 0.37312356, 0.41543296,\n",
       "       0.5213823 , 0.39483717, 0.47579765, 0.4734119 , 0.32213864,\n",
       "       0.3970213 , 0.45338145, 0.28898054, 0.51091737, 0.460466  ,\n",
       "       0.56803626, 0.49064928, 0.39818585, 0.46436122, 0.30786893,\n",
       "       0.6197949 , 0.5026317 , 0.39166817, 0.4993513 , 0.56794494,\n",
       "       0.5419301 , 0.41856644, 0.34606934, 0.45634952, 0.26158231,\n",
       "       0.35902599, 0.5420245 , 0.46305984, 0.50947183, 0.41715848,\n",
       "       0.46007428, 0.4168337 , 0.51871777, 0.40481037, 0.5001041 ,\n",
       "       0.46069497, 0.38517046, 0.42491227, 0.5285717 , 0.28406835,\n",
       "       0.55371714, 0.5079951 , 0.3918474 , 0.43321884, 0.33425185,\n",
       "       0.39504167, 0.43951198, 0.4655805 , 0.39165214, 0.30228543,\n",
       "       0.42584175, 0.5077301 , 0.40829432, 0.42740798, 0.41954765,\n",
       "       0.35640532, 0.43846613, 0.43170068, 0.40481722, 0.46099174,\n",
       "       0.5193084 , 0.3897742 , 0.54508626, 0.39663878, 0.36672476,\n",
       "       0.49705222, 0.4581446 , 0.41149065, 0.4588148 , 0.2913137 ,\n",
       "       0.48865375, 0.45217302, 0.45887408, 0.31629804, 0.38069913,\n",
       "       0.32195696, 0.5186837 , 0.5396717 , 0.5127138 , 0.5012581 ,\n",
       "       0.5347546 , 0.40867257, 0.36999756, 0.49807596, 0.5815852 ,\n",
       "       0.2503937 , 0.4336212 , 0.45909315, 0.47376803, 0.4997307 ,\n",
       "       0.37796   , 0.5715063 , 0.27750137, 0.39995226, 0.5258307 ,\n",
       "       0.54104656, 0.32034472, 0.40052965, 0.4620027 , 0.31997037,\n",
       "       0.5755228 , 0.40377542, 0.40456352, 0.324521  , 0.50649625,\n",
       "       0.5480348 , 0.51484865, 0.38952518, 0.34788713, 0.32091302,\n",
       "       0.47723657, 0.51666576, 0.48628157, 0.30553228, 0.4867175 ,\n",
       "       0.46185493, 0.49347746, 0.5383096 , 0.38849944, 0.30932644,\n",
       "       0.3377257 , 0.42073423, 0.42961505, 0.42895108, 0.49637958,\n",
       "       0.39170378, 0.33110872, 0.4583389 , 0.44360134, 0.34868652,\n",
       "       0.5906709 , 0.4480204 , 0.50195444, 0.53020746, 0.45643416,\n",
       "       0.36822554, 0.44824854, 0.5001177 , 0.32960764, 0.5381685 ,\n",
       "       0.61642665, 0.52065796, 0.53758985, 0.36053377, 0.50954264,\n",
       "       0.39488795, 0.5547943 , 0.51378036, 0.48806188, 0.26338565,\n",
       "       0.57416797, 0.28913334, 0.5628983 , 0.45045453, 0.36013722,\n",
       "       0.526424  , 0.4624039 , 0.26341385, 0.51333034, 0.38484105,\n",
       "       0.24091655, 0.5015871 , 0.5537957 , 0.48135123, 0.4745189 ,\n",
       "       0.61962867, 0.58642703, 0.42998558, 0.33370772, 0.47961822,\n",
       "       0.42450988, 0.3589919 , 0.59707963, 0.4354162 , 0.58782125,\n",
       "       0.29910725, 0.26575285, 0.34249282, 0.4372331 , 0.5181033 ,\n",
       "       0.49715903, 0.37853494, 0.50526047, 0.4092386 , 0.4141639 ,\n",
       "       0.43243128, 0.564695  , 0.5215196 , 0.39199564, 0.3657759 ,\n",
       "       0.45745453, 0.520729  , 0.6301844 , 0.417364  , 0.57026654,\n",
       "       0.5268457 , 0.46583277, 0.48022816, 0.50524867, 0.4720617 ,\n",
       "       0.54819983, 0.43262687, 0.42114732, 0.3877348 , 0.49276218,\n",
       "       0.4351815 , 0.56716007, 0.36179468, 0.5031388 , 0.32561168,\n",
       "       0.37727776, 0.5726115 , 0.56971145, 0.5455214 , 0.4106574 ,\n",
       "       0.5485196 , 0.44986612, 0.23978786, 0.47725126, 0.508287  ,\n",
       "       0.4453629 , 0.34991798, 0.43035844, 0.4533672 , 0.29490754,\n",
       "       0.36398703, 0.44762817, 0.37147555, 0.5877397 , 0.4457351 ,\n",
       "       0.48521158, 0.42632964, 0.4635201 , 0.34148103, 0.5170387 ,\n",
       "       0.34039167, 0.38959503, 0.48104817, 0.5064661 , 0.4750888 ,\n",
       "       0.4317536 , 0.39963406, 0.49869722, 0.5605087 , 0.4908055 ,\n",
       "       0.5151592 , 0.4260372 , 0.44242075, 0.56769645, 0.38762337,\n",
       "       0.4311162 , 0.3621726 , 0.45064983, 0.57273644, 0.6423194 ,\n",
       "       0.49209845, 0.38447046, 0.40406027, 0.3819674 , 0.4915651 ,\n",
       "       0.49528712, 0.39237434, 0.54956865, 0.4010485 , 0.3516827 ,\n",
       "       0.32717836, 0.28945434, 0.5108394 , 0.41556308, 0.49899587,\n",
       "       0.33551213, 0.5095712 , 0.42811748, 0.33405933, 0.35280117,\n",
       "       0.36687207, 0.39460626, 0.38497016, 0.50858027, 0.47022504,\n",
       "       0.50704426, 0.33770272, 0.3921187 , 0.54514915, 0.39024916,\n",
       "       0.25083548, 0.48981002, 0.61362934, 0.37262592, 0.6271002 ,\n",
       "       0.38185817, 0.39860725, 0.22962445, 0.30406684, 0.47783494,\n",
       "       0.42262244, 0.47707337, 0.35856685, 0.52566725, 0.47905704],\n",
       "      dtype=float32)"
      ]
     },
     "execution_count": 19,
     "metadata": {},
     "output_type": "execute_result"
    }
   ],
   "source": [
    "xgb_pred"
   ]
  },
  {
   "cell_type": "code",
   "execution_count": 20,
   "id": "dd9fa3b6",
   "metadata": {},
   "outputs": [
    {
     "name": "stdout",
     "output_type": "stream",
     "text": [
      "Mean Squared Error : 0.0028519796626279405\n",
      "Mean Absolute Error : 0.042087699692336986\n",
      "R Squared : 0.6986165936109974\n"
     ]
    }
   ],
   "source": [
    "# Model Evaluation\n",
    "from sklearn.metrics import mean_squared_error, mean_absolute_error, r2_score\n",
    "mse = mean_squared_error(ytest, xgb_pred)\n",
    "mae = mean_absolute_error(ytest, xgb_pred)\n",
    "r2 = r2_score(ytest, xgb_pred)\n",
    "\n",
    "print(\"Mean Squared Error : {}\".format(mse))\n",
    "print(\"Mean Absolute Error : {}\".format(mae))\n",
    "print(\"R Squared : {}\".format(r2))"
   ]
  },
  {
   "cell_type": "code",
   "execution_count": 21,
   "id": "f883e335",
   "metadata": {},
   "outputs": [
    {
     "name": "stdout",
     "output_type": "stream",
     "text": [
      "Mean Squared Error : 0.004384500171963547\n",
      "Mean Absolute Error : 0.05057862487341803\n",
      "R Squared : 0.5366672440006355\n"
     ]
    }
   ],
   "source": [
    "linear_regr_model.fit(xtrain, ytrain)\n",
    "linear_pred = linear_regr_model.predict(xtest)\n",
    "\n",
    "mse = mean_squared_error(ytest, linear_pred)\n",
    "mae = mean_absolute_error(ytest, linear_pred)\n",
    "r2 = r2_score(ytest, linear_pred)\n",
    "\n",
    "print(\"Mean Squared Error : {}\".format(mse))\n",
    "print(\"Mean Absolute Error : {}\".format(mae))\n",
    "print(\"R Squared : {}\".format(r2))"
   ]
  },
  {
   "cell_type": "code",
   "execution_count": 30,
   "id": "ca423715",
   "metadata": {},
   "outputs": [
    {
     "name": "stdout",
     "output_type": "stream",
     "text": [
      "Mean Squared Error : 0.003902223101115766\n",
      "Mean Absolute Error : 0.05000901858131005\n",
      "R Squared : 0.5366672440006355\n"
     ]
    }
   ],
   "source": [
    "from sklearn.svm import SVR\n",
    "svm_model = SVR(kernel='linear')\n",
    "svm_model.fit(xtrain, ytrain)\n",
    "svmpred = svm_model.predict(xtest)\n",
    "\n",
    "mse = mean_squared_error(ytest, svmpred)\n",
    "mae = mean_absolute_error(ytest, svmpred)\n",
    "r2 = r2_score(ytest, linear_pred)\n",
    "\n",
    "print(\"Mean Squared Error : {}\".format(mse))\n",
    "print(\"Mean Absolute Error : {}\".format(mae))\n",
    "print(\"R Squared : {}\".format(r2))"
   ]
  },
  {
   "cell_type": "code",
   "execution_count": 48,
   "id": "314e0747",
   "metadata": {},
   "outputs": [
    {
     "name": "stdout",
     "output_type": "stream",
     "text": [
      "Epoch 1/25\n",
      "75/75 [==============================] - 4s 32ms/step - loss: 0.0074 - mse: 0.0074\n",
      "Epoch 2/25\n",
      "75/75 [==============================] - 2s 30ms/step - loss: 0.0033 - mse: 0.0033\n",
      "Epoch 3/25\n",
      "75/75 [==============================] - 2s 31ms/step - loss: 0.0021 - mse: 0.0021\n",
      "Epoch 4/25\n",
      "75/75 [==============================] - 2s 31ms/step - loss: 0.0016 - mse: 0.0016\n",
      "Epoch 5/25\n",
      "75/75 [==============================] - 2s 26ms/step - loss: 0.0011 - mse: 0.0011\n",
      "Epoch 6/25\n",
      "75/75 [==============================] - 2s 26ms/step - loss: 8.6744e-04 - mse: 8.6744e-04\n",
      "Epoch 7/25\n",
      "75/75 [==============================] - 2s 26ms/step - loss: 7.0951e-04 - mse: 7.0951e-04\n",
      "Epoch 8/25\n",
      "75/75 [==============================] - 2s 27ms/step - loss: 5.9827e-04 - mse: 5.9827e-04\n",
      "Epoch 9/25\n",
      "75/75 [==============================] - 2s 27ms/step - loss: 4.9263e-04 - mse: 4.9263e-04\n",
      "Epoch 10/25\n",
      "75/75 [==============================] - 2s 29ms/step - loss: 3.9560e-04 - mse: 3.9560e-04\n",
      "Epoch 11/25\n",
      "75/75 [==============================] - 2s 26ms/step - loss: 3.9392e-04 - mse: 3.9392e-04\n",
      "Epoch 12/25\n",
      "75/75 [==============================] - 2s 26ms/step - loss: 3.0083e-04 - mse: 3.0083e-04\n",
      "Epoch 13/25\n",
      "75/75 [==============================] - 2s 26ms/step - loss: 2.6302e-04 - mse: 2.6302e-04\n",
      "Epoch 14/25\n",
      "75/75 [==============================] - 2s 26ms/step - loss: 2.1971e-04 - mse: 2.1971e-04\n",
      "Epoch 15/25\n",
      "75/75 [==============================] - 2s 26ms/step - loss: 1.9462e-04 - mse: 1.9462e-04\n",
      "Epoch 16/25\n",
      "75/75 [==============================] - 2s 26ms/step - loss: 1.7057e-04 - mse: 1.7057e-04\n",
      "Epoch 17/25\n",
      "75/75 [==============================] - 2s 26ms/step - loss: 1.6399e-04 - mse: 1.6399e-04\n",
      "Epoch 18/25\n",
      "75/75 [==============================] - 2s 26ms/step - loss: 1.6339e-04 - mse: 1.6339e-04\n",
      "Epoch 19/25\n",
      "75/75 [==============================] - 2s 26ms/step - loss: 1.4414e-04 - mse: 1.4414e-04\n",
      "Epoch 20/25\n",
      "75/75 [==============================] - 2s 26ms/step - loss: 1.3843e-04 - mse: 1.3843e-04\n",
      "Epoch 21/25\n",
      "75/75 [==============================] - 2s 26ms/step - loss: 1.2619e-04 - mse: 1.2619e-04\n",
      "Epoch 22/25\n",
      "75/75 [==============================] - 2s 27ms/step - loss: 1.2369e-04 - mse: 1.2369e-04\n",
      "Epoch 23/25\n",
      "75/75 [==============================] - 2s 26ms/step - loss: 1.3246e-04 - mse: 1.3246e-04\n",
      "Epoch 24/25\n",
      "75/75 [==============================] - 2s 26ms/step - loss: 1.3786e-04 - mse: 1.3786e-04\n",
      "Epoch 25/25\n",
      "75/75 [==============================] - 2s 26ms/step - loss: 1.2034e-04 - mse: 1.2034e-04\n",
      "\n",
      "\n",
      "\n",
      "19/19 [==============================] - 0s 4ms/step - loss: 0.0034 - mse: 0.0034\n",
      "Mean Squared Error: 0.0034264493733644485\n",
      "19/19 [==============================] - 0s 3ms/step\n"
     ]
    }
   ],
   "source": [
    "# xtrain = xtrain.toarray()\n",
    "# xtest = xtest.toarray()\n",
    "import tensorflow as tf\n",
    "import tensorflow_addons as tfa\n",
    "from tensorflow.keras.models import Sequential\n",
    "from tensorflow.keras.layers import Dense\n",
    "\n",
    "# Define the neural network architecture\n",
    "model = Sequential()\n",
    "model.add(Dense(64, activation='relu', input_shape=(xtrain.shape[1],)))\n",
    "model.add(Dense(32, activation='relu'))\n",
    "model.add(Dense(16, activation='relu'))\n",
    "model.add(Dense(4, activation='relu'))\n",
    "model.add(Dense(1, activation='sigmoid'))\n",
    "\n",
    "# Compile the model with R2 score as the metric\n",
    "# model.compile(optimizer='adam', loss='mean_squared_error', metrics=['mse'])\n",
    "model.compile(optimizer='adam', loss='mean_squared_error', metrics=['mse'])\n",
    "\n",
    "\n",
    "# Train the model\n",
    "history = model.fit(xtrain, ytrain, epochs=25, batch_size=32)\n",
    "\n",
    "# Model Evaluation\n",
    "print(\"\\n\\n\")\n",
    "loss, mse = model.evaluate(xtest, ytest)\n",
    "print(\"Mean Squared Error:\", mse)\n",
    "# y_pred = model.predict(xtest)\n",
    "# r2 = r2_score(ytest, y_pred)\n",
    "# print(\"R2 Score:\", r2)\n",
    "\n",
    "\n",
    "# Make predictions using the trained model\n",
    "predictions = model.predict(xtest)\n",
    "\n",
    "# Print some example predictions\n",
    "# for i in range(5):\n",
    "#     print(\"Text1:\", xtest[i, 0])\n",
    "#     print(\"Text2:\", xtest[i, 1])\n",
    "#     print(\"Actual Similarity Score:\", ytest[i])\n",
    "#     print(\"Predicted Similarity Score:\", predictions[i])\n",
    "#     print()\n"
   ]
  },
  {
   "cell_type": "code",
   "execution_count": 49,
   "id": "b36226f9",
   "metadata": {},
   "outputs": [
    {
     "data": {
      "image/png": "[encoded data removed]",
      "text/plain": [
       "<Figure size 432x288 with 1 Axes>"
      ]
     },
     "metadata": {
      "needs_background": "light"
     },
     "output_type": "display_data"
    }
   ],
   "source": [
    "import matplotlib.pyplot as plt\n",
    "%matplotlib inline\n",
    "\n",
    "plt.plot(history.history['loss'], label='training loss')\n",
    "plt.title(\"Loss\")\n",
    "plt.xlabel(\"Epochs\")\n",
    "plt.ylabel(\"Loss\")\n",
    "plt.legend()\n",
    "\n",
    "plt.show()"
   ]
  },
  {
   "cell_type": "code",
   "execution_count": 50,
   "id": "9ae1fb36",
   "metadata": {},
   "outputs": [],
   "source": [
    "# Saving the trained model in the same directory for future use\n",
    "xgbmodel.save_model('xgbmodel2.model')"
   ]
  },
  {
   "cell_type": "markdown",
   "id": "15acba99",
   "metadata": {},
   "source": [
    "## Training ML Models\n",
    "- Since we are treating this as a supervised learning problem, let's try using the `SVM` & `XGBoost` machine learning algorithms and choose the one which yields best results\n",
    "- We would first have to split the data set into train data and test data\n",
    "- The `similarity score` would be the dependent variable\n",
    "- We would convert the `text1` & `text2` into vectors by performing feature extraction and converting and combining those texts into vectors since SVM & XGBoost require the data to be numerical"
   ]
  },
  {
   "cell_type": "code",
   "execution_count": 22,
   "id": "ffe76be3",
   "metadata": {},
   "outputs": [],
   "source": [
    "# # Importing dependencies\n",
    "# from sklearn.model_selection import train_test_split\n",
    "# from sklearn.feature_extraction.text import TfidfVectorizer\n",
    "# from sklearn.svm import SVR\n",
    "# # from sklearn.ensemble import RandomForestRegressor\n",
    "\n",
    "# # Train-test split\n",
    "# traindf, testdf = train_test_split(df, test_size=0.2, random_state=42)\n",
    "\n",
    "# vectorizer = TfidfVectorizer()\n",
    "\n",
    "# X_train = vectorizer.fit_transform(traindf['text1'] + traindf['text2'])\n",
    "# y_train = traindf['similarity score']\n",
    "# X_test = vectorizer.transform(testdf['text1'] + testdf['text2'])\n",
    "# y_test = testdf['similarity score']\n",
    "\n",
    "# # Training the SVM model\n",
    "# svm_model = SVR(kernel='linear')\n",
    "# svm_model.fit(X_train, y_train)"
   ]
  },
  {
   "cell_type": "code",
   "execution_count": 23,
   "id": "5ed2765f",
   "metadata": {},
   "outputs": [],
   "source": [
    "# # Predicting the similarity scores using the SVM model\n",
    "# svm_predictions = svm_model.predict(X_test)"
   ]
  },
  {
   "cell_type": "code",
   "execution_count": 24,
   "id": "87f846c5",
   "metadata": {},
   "outputs": [],
   "source": [
    "# svm_predictions"
   ]
  },
  {
   "cell_type": "code",
   "execution_count": 25,
   "id": "856e06a0",
   "metadata": {},
   "outputs": [],
   "source": [
    "# # Evaluating the SVM Model using basic model evaluation metrics\n",
    "# from sklearn.metrics import mean_squared_error, mean_absolute_error, r2_score\n",
    "\n",
    "# mse = mean_squared_error(y_test, svm_predictions)\n",
    "# mae = mean_absolute_error(y_test, svm_predictions)\n",
    "# r_squared = r2_score(y_test, svm_predictions)\n",
    "\n",
    "# print(\"Mean Squared Error : {}\".format(mse))\n",
    "# print(\"Mean Absolute Error : {}\".format(mae))\n",
    "# print(\"R Squared : {}\".format(r_squared))"
   ]
  },
  {
   "cell_type": "markdown",
   "id": "702382df",
   "metadata": {},
   "source": [
    "#### The R2 score, 0.19, suggests that SVM might not be a good option to use in our case. We need to check out the XGBoost model now"
   ]
  },
  {
   "cell_type": "code",
   "execution_count": 26,
   "id": "908d46d8",
   "metadata": {},
   "outputs": [],
   "source": [
    "# # Importing xgboost\n",
    "# import xgboost as xgb\n",
    "\n",
    "# # Training and predicting our model\n",
    "# xgbmodel = xgb.XGBRegressor()\n",
    "# xgbmodel.fit(X_train, y_train)\n",
    "# xgb_pred = xgbmodel.predict(X_test)"
   ]
  },
  {
   "cell_type": "code",
   "execution_count": 27,
   "id": "d7b215c0",
   "metadata": {},
   "outputs": [],
   "source": [
    "# # Model Evaluation\n",
    "# mse = mean_squared_error(y_test, xgb_pred)\n",
    "# mae = mean_absolute_error(y_test, xgb_pred)\n",
    "# r2 = r2_score(y_test, xgb_pred)\n",
    "\n",
    "# print(\"Mean Squared Error : {}\".format(mse))\n",
    "# print(\"Mean Absolute Error : {}\".format(mae))\n",
    "# print(\"R Squared : {}\".format(r2))"
   ]
  },
  {
   "cell_type": "markdown",
   "id": "64ae7b65",
   "metadata": {},
   "source": [
    "#### R2 score, 0.6 (much higher than 0.19) suggests that using XGBoost might be a better option to use "
   ]
  },
  {
   "cell_type": "code",
   "execution_count": 28,
   "id": "898f0624",
   "metadata": {},
   "outputs": [],
   "source": [
    "# # Saving the trained model in the same directory for future use\n",
    "# xgbmodel.save_model('xgbmodel.model')"
   ]
  },
  {
   "cell_type": "markdown",
   "id": "b28b4908",
   "metadata": {},
   "source": [
    "### What Next?\n",
    "- Now that we have saved our model, we can head to building our Flask app for a development environment.\n",
    "- We will have an `app.py` flask application and the `index.html` template to be rendered\n",
    "- This notebook won't be needed anymore and can be referred to as a technical documentation as well, even though a short 1 pager report would be provided."
   ]
  }
 ],
 "metadata": {
  "kernelspec": {
   "display_name": "Python 3 (ipykernel)",
   "language": "python",
   "name": "python3"
  },
  "language_info": {
   "codemirror_mode": {
    "name": "ipython",
    "version": 3
   },
   "file_extension": ".py",
   "mimetype": "text/x-python",
   "name": "python",
   "nbconvert_exporter": "python",
   "pygments_lexer": "ipython3",
   "version": "3.10.5"
  }
 },
 "nbformat": 4,
 "nbformat_minor": 5
}
